{
 "cells": [
  {
   "cell_type": "code",
   "execution_count": 4,
   "id": "24737fa4-da7d-48f7-bf49-7af1e80f3767",
   "metadata": {},
   "outputs": [],
   "source": [
    "#User_defined_function\n",
    "\n",
    "#function definition\n",
    "def reverse_my_sentence(s):\n",
    "\n",
    "    sentence = s\n",
    "    #splitting user entered/ static sentence into a list of items, which are separated by a space character (\" \") in the sentence\n",
    "    list_ = sentence.split(\" \")\n",
    "    \n",
    "    #length of list_sentence is the number of items/ words in the sentence\n",
    "    n = len(list_)\n",
    "    \n",
    "    #declaring counter for loop operation\n",
    "    i=0\n",
    "    \n",
    "    #declaring blank variable to store new sentence which will be reverse sorted\n",
    "    new_sentence = \"\"\n",
    "    \n",
    "    #loop operation to sort the sentence in reverse order\n",
    "    while i<n:\n",
    "        #concatenate words separated by space character into a new sentence\n",
    "        new_sentence = new_sentence + list_[n-i-1] + \" \"\n",
    "        i = i+1\n",
    "    return new_sentence"
   ]
  },
  {
   "cell_type": "code",
   "execution_count": 6,
   "id": "2605291f",
   "metadata": {},
   "outputs": [
    {
     "name": "stdout",
     "output_type": "stream",
     "text": [
      "reverse in sentence this print \n"
     ]
    }
   ],
   "source": [
    "#function call\n",
    "\n",
    "print(reverse_my_sentence(\"print this sentence in reverse\"))\n"
   ]
  }
 ],
 "metadata": {
  "kernelspec": {
   "display_name": "Python 3",
   "language": "python",
   "name": "python3"
  },
  "language_info": {
   "codemirror_mode": {
    "name": "ipython",
    "version": 3
   },
   "file_extension": ".py",
   "mimetype": "text/x-python",
   "name": "python",
   "nbconvert_exporter": "python",
   "pygments_lexer": "ipython3",
   "version": "3.8.8"
  }
 },
 "nbformat": 4,
 "nbformat_minor": 5
}
