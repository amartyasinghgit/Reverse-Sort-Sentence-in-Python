{
 "cells": [
  {
   "cell_type": "code",
   "execution_count": 3,
   "id": "c9a17c15",
   "metadata": {},
   "outputs": [
    {
     "name": "stdout",
     "output_type": "stream",
     "text": [
      " INPUT:  print this whole screen\n",
      "OUTPUT:  screen whole this print \n"
     ]
    }
   ],
   "source": [
    "#Independent Code\n",
    "\n",
    "\n",
    "sentence = \"print this whole screen\"\n",
    "#splitting user entered/ static sentence into a list of items, which are separated by a space character (\" \") in the sentence\n",
    "list_ = sentence.split(\" \")\n",
    "\n",
    "\n",
    "#length of list_sentence is the number of items/ words in the sentence\n",
    "n = len(list_)\n",
    "\n",
    "#declaring counter for loop operation\n",
    "i=0\n",
    "\n",
    "\n",
    "#declaring blank variable to store new sentence which will be reverse sorted\n",
    "new_sentence = \"\"\n",
    "\n",
    "#loop operation to sort the sentence in reverse order\n",
    "while i<n:\n",
    "    #concatenate words separated by space character into a new sentence\n",
    "    new_sentence = new_sentence + list_[n-i-1] + \" \"\n",
    "    i = i+1\n",
    "\n",
    "\n",
    "\n",
    "print(\" INPUT: \", sentence)\n",
    "print(\"OUTPUT: \",new_sentence)"
   ]
  }
 ],
 "metadata": {
  "kernelspec": {
   "display_name": "Python 3",
   "language": "python",
   "name": "python3"
  },
  "language_info": {
   "codemirror_mode": {
    "name": "ipython",
    "version": 3
   },
   "file_extension": ".py",
   "mimetype": "text/x-python",
   "name": "python",
   "nbconvert_exporter": "python",
   "pygments_lexer": "ipython3",
   "version": "3.8.8"
  }
 },
 "nbformat": 4,
 "nbformat_minor": 5
}
